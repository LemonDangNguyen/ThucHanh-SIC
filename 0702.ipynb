{
 "cells": [
  {
   "cell_type": "code",
   "execution_count": 16,
   "id": "c67fc861-88e6-4c23-8fc5-e73f4191aba8",
   "metadata": {},
   "outputs": [],
   "source": [
    "import numpy as np\n",
    "import tensorflow.compat.v1 as tf\n",
    "tf.disable_v2_behavior()\n",
    "\n",
    "# import tensorflow as tf\n",
    "# tf.compat.v1.disable_eager_execution() \n"
   ]
  },
  {
   "cell_type": "code",
   "execution_count": 18,
   "id": "10c2480d-7e80-475e-a19e-c77f9d5c0e12",
   "metadata": {},
   "outputs": [],
   "source": [
    "study = np.array([ 3, 4.5, 6, 1.2, 2, 6.9, 6.7, 5.5])        \n",
    "score = np.array([ 88, 85, 90, 80, 81, 92, 95, 90]) "
   ]
  },
  {
   "cell_type": "code",
   "execution_count": 20,
   "id": "f26c82ab-b28d-4e73-ae4d-37c81c13d6d0",
   "metadata": {},
   "outputs": [],
   "source": [
    "b1 = tf.Variable(1.0)              \n",
    "b0 = tf.Variable(1.0)"
   ]
  },
  {
   "cell_type": "code",
   "execution_count": 22,
   "id": "b3f027d3-f5a2-446f-a2e6-bcfa47740c03",
   "metadata": {},
   "outputs": [],
   "source": [
    "X_ph = tf.placeholder(tf.float32, shape=(None))               \n",
    "y_ph = tf.placeholder(tf.float32, shape=(None))                "
   ]
  },
  {
   "cell_type": "code",
   "execution_count": 24,
   "id": "5046b195-58e0-4723-88f6-5c82dbfa8804",
   "metadata": {},
   "outputs": [],
   "source": [
    "y_model = b0 + b1*X_ph  "
   ]
  },
  {
   "cell_type": "code",
   "execution_count": 26,
   "id": "aaad4c9b-767d-478c-889d-2303745434f7",
   "metadata": {},
   "outputs": [],
   "source": [
    "loss = tf.reduce_sum(tf.square(y_ph - y_model)) "
   ]
  },
  {
   "cell_type": "code",
   "execution_count": 28,
   "id": "5864ca59-caac-4211-8938-02df0dac3baa",
   "metadata": {},
   "outputs": [],
   "source": [
    "optimizer = tf.train.GradientDescentOptimizer(learning_rate=0.001)"
   ]
  },
  {
   "cell_type": "code",
   "execution_count": 32,
   "id": "e61d65f7-9e3f-4d6c-bd37-af9174a991f5",
   "metadata": {},
   "outputs": [],
   "source": [
    "train = optimizer.minimize(loss)"
   ]
  },
  {
   "cell_type": "code",
   "execution_count": 34,
   "id": "01a45c56-e914-4503-b8ad-82fcd9f4afd5",
   "metadata": {},
   "outputs": [],
   "source": [
    "init = tf.global_variables_initializer()"
   ]
  },
  {
   "cell_type": "code",
   "execution_count": 38,
   "id": "a8ab2695-16fc-44fb-9d6c-9b423d8627bd",
   "metadata": {},
   "outputs": [],
   "source": [
    "n_epochs = 5000                                                  \n",
    "with tf.Session() as sess:\n",
    "        sess.run(init)     \n",
    "        my_feed = {X_ph:study, y_ph:score}                       \n",
    "        for i in range(n_epochs):\n",
    "            sess.run(train, feed_dict = my_feed)\n",
    "        b0_model, b1_model = sess.run([b0, b1])                  \n",
    "        mse = tf.reduce_mean(tf.square(y_ph - y_model))           \n",
    "        mse_value = sess.run(mse, feed_dict = my_feed)"
   ]
  },
  {
   "cell_type": "code",
   "execution_count": 40,
   "id": "536771db-2796-4503-a220-3e9c3af35304",
   "metadata": {},
   "outputs": [
    {
     "name": "stdout",
     "output_type": "stream",
     "text": [
      "Parameters b0 = 77.683 , b1 = 2.222\n"
     ]
    }
   ],
   "source": [
    "print(\"Parameters b0 = {:5.3f} , b1 = {:5.3f}\".format(b0_model, b1_model))"
   ]
  },
  {
   "cell_type": "code",
   "execution_count": 42,
   "id": "3f1444ff-612d-4619-8f0b-146b657639d5",
   "metadata": {},
   "outputs": [],
   "source": [
    "study_new = np.array([2.5, 3.3, 4.2]).reshape(-1,1)"
   ]
  },
  {
   "cell_type": "code",
   "execution_count": 44,
   "id": "91a86cf1-5afa-45c4-82ca-e9a47fdf6d99",
   "metadata": {},
   "outputs": [],
   "source": [
    "X_ph = tf.placeholder(tf.float32, shape=(study_new.size,1))\n",
    "y_model = b0_model + b1_model*X_ph   "
   ]
  },
  {
   "cell_type": "code",
   "execution_count": 46,
   "id": "9607f869-8588-4bd9-958b-9f791cd07f26",
   "metadata": {},
   "outputs": [],
   "source": [
    "with tf.Session() as sess:\n",
    "        my_feed = {X_ph:study_new}\n",
    "        y_pred_value = sess.run(y_model, feed_dict = my_feed) "
   ]
  },
  {
   "cell_type": "code",
   "execution_count": 48,
   "id": "001b5326-cecb-428c-be6e-4d342c3acafe",
   "metadata": {},
   "outputs": [
    {
     "name": "stdout",
     "output_type": "stream",
     "text": [
      "[[83.23718]\n",
      " [85.01443]\n",
      " [87.01383]]\n"
     ]
    }
   ],
   "source": [
    "print(y_pred_value)"
   ]
  },
  {
   "cell_type": "code",
   "execution_count": null,
   "id": "113e8371-c6ba-480a-a451-07a218f29f4f",
   "metadata": {},
   "outputs": [],
   "source": []
  }
 ],
 "metadata": {
  "kernelspec": {
   "display_name": "Python 3 (ipykernel)",
   "language": "python",
   "name": "python3"
  },
  "language_info": {
   "codemirror_mode": {
    "name": "ipython",
    "version": 3
   },
   "file_extension": ".py",
   "mimetype": "text/x-python",
   "name": "python",
   "nbconvert_exporter": "python",
   "pygments_lexer": "ipython3",
   "version": "3.12.4"
  }
 },
 "nbformat": 4,
 "nbformat_minor": 5
}
