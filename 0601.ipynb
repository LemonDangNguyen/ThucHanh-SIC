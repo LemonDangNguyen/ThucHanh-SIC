{
 "cells": [
  {
   "cell_type": "code",
   "execution_count": 3,
   "id": "6bc39970-0d4a-46f2-8209-49df1cd66d2c",
   "metadata": {},
   "outputs": [
    {
     "data": {
      "text/plain": [
       "'hello! how are you?'"
      ]
     },
     "execution_count": 3,
     "metadata": {},
     "output_type": "execute_result"
    }
   ],
   "source": [
    "\"HELLO! HOW ARE YOU?\".lower()"
   ]
  },
  {
   "cell_type": "code",
   "execution_count": 5,
   "id": "c46b3e14-94a5-48b5-93e1-8bdbd3fe26e1",
   "metadata": {},
   "outputs": [
    {
     "data": {
      "text/plain": [
       "'THIS IS A WARNING!'"
      ]
     },
     "execution_count": 5,
     "metadata": {},
     "output_type": "execute_result"
    }
   ],
   "source": [
    "\"this is a warning!\".upper()"
   ]
  },
  {
   "cell_type": "code",
   "execution_count": 11,
   "id": "8c60572e-8ac8-45a3-91ca-3dc5fe093426",
   "metadata": {},
   "outputs": [
    {
     "name": "stdout",
     "output_type": "stream",
     "text": [
      "['Once', 'uppon', 'a', 'time,', 'there', 'was', 'a', 'prince', 'and', 'a', 'princess.']\n"
     ]
    },
    {
     "data": {
      "text/plain": [
       "'Once uppon a time, there was a prince and a princess.'"
      ]
     },
     "execution_count": 11,
     "metadata": {},
     "output_type": "execute_result"
    }
   ],
   "source": [
    "x = \"Once uppon a time, there was a prince and a princess.\".split(\" \")\n",
    "print(x)\n",
    "\" \".join(x)"
   ]
  },
  {
   "cell_type": "code",
   "execution_count": 15,
   "id": "301634e1-c053-47ac-a207-e50644c3e7a9",
   "metadata": {},
   "outputs": [
    {
     "name": "stdout",
     "output_type": "stream",
     "text": [
      "53\n"
     ]
    },
    {
     "data": {
      "text/plain": [
       "'Once uppon'"
      ]
     },
     "execution_count": 15,
     "metadata": {},
     "output_type": "execute_result"
    }
   ],
   "source": [
    "y = \"Once uppon a time, there was a prince and a princess.\"\n",
    "print(len(y))\n",
    "y.count('a')\n",
    "y[0:10]"
   ]
  },
  {
   "cell_type": "code",
   "execution_count": 17,
   "id": "26537115-71e7-4f69-8263-af915e97e55b",
   "metadata": {},
   "outputs": [],
   "source": [
    "import re"
   ]
  },
  {
   "cell_type": "code",
   "execution_count": 19,
   "id": "79833e13-512d-44a4-b73f-538b67deddf3",
   "metadata": {},
   "outputs": [],
   "source": [
    "x1 = \"ct\"\n",
    "x2 = \"cat\"\n",
    "x3 = \"caat\""
   ]
  },
  {
   "cell_type": "code",
   "execution_count": 21,
   "id": "dc244030-8109-4945-a693-d9bf018c510a",
   "metadata": {},
   "outputs": [
    {
     "name": "stdout",
     "output_type": "stream",
     "text": [
      "No\n"
     ]
    }
   ],
   "source": [
    "my_expression = re.compile(\"c.t\")\n",
    "if my_expression.search(x1):\n",
    "    print(\"Yes!\")\n",
    "else:\n",
    "    print(\"No\")"
   ]
  },
  {
   "cell_type": "code",
   "execution_count": 23,
   "id": "79af2400-7d4b-4fc2-98f4-b8eea22e962f",
   "metadata": {},
   "outputs": [
    {
     "name": "stdout",
     "output_type": "stream",
     "text": [
      "Yes!\n"
     ]
    }
   ],
   "source": [
    "if my_expression.search(x2):\n",
    "    print(\"Yes!\")\n",
    "else:\n",
    "    print(\"No\")"
   ]
  },
  {
   "cell_type": "code",
   "execution_count": 25,
   "id": "6273b2db-f41a-4a6c-90e9-04479fc2f73e",
   "metadata": {},
   "outputs": [
    {
     "name": "stdout",
     "output_type": "stream",
     "text": [
      "No\n"
     ]
    }
   ],
   "source": [
    "if my_expression.search(x3):\n",
    "    print(\"Yes!\")\n",
    "else:\n",
    "    print(\"No\")"
   ]
  },
  {
   "cell_type": "code",
   "execution_count": 27,
   "id": "d6b49a6d-f2e3-48af-bbe6-72b4bddcf87b",
   "metadata": {},
   "outputs": [],
   "source": [
    "my_exp = \"ca?t\""
   ]
  },
  {
   "cell_type": "code",
   "execution_count": 31,
   "id": "13156610-5c2f-420e-a6d6-971e90d81bea",
   "metadata": {},
   "outputs": [
    {
     "name": "stdout",
     "output_type": "stream",
     "text": [
      "Yes!\n",
      "Yes!\n",
      "No\n"
     ]
    }
   ],
   "source": [
    "if re.search(my_exp, x1):\n",
    "    print(\"Yes!\")\n",
    "else:\n",
    "    print(\"No\")\n",
    "if re.search(my_exp, x2):\n",
    "    print(\"Yes!\")\n",
    "else:\n",
    "    print(\"No\")\n",
    "if re.search(my_exp, x3):\n",
    "    print(\"Yes!\")\n",
    "else:\n",
    "    print(\"No\")"
   ]
  },
  {
   "cell_type": "code",
   "execution_count": 33,
   "id": "64ae3dce-3d45-4769-adc6-be1d294d34ae",
   "metadata": {},
   "outputs": [
    {
     "name": "stdout",
     "output_type": "stream",
     "text": [
      "No\n",
      "Yes\n",
      "Yes\n",
      "No\n"
     ]
    }
   ],
   "source": [
    "x1 = \"ct\"\n",
    "x2 = \"cat\"\n",
    "x3 = \"caat\"\n",
    "x4 = \"caaat\"\n",
    "\n",
    "my_exp= \"ca{1,2}t\"\n",
    "\n",
    "if re.search(my_exp, x1):\n",
    "    print(\"Yes\")\n",
    "else:\n",
    "    print(\"No\")\n",
    "\n",
    "if re.search(my_exp, x2):\n",
    "    print(\"Yes\")\n",
    "else:\n",
    "    print(\"No\")\n",
    "\n",
    "if re.search(my_exp, x3):\n",
    "    print(\"Yes\")\n",
    "else:\n",
    "    print(\"No\")\n",
    "\n",
    "if re.search(my_exp, x4):\n",
    "    print(\"Yes\")\n",
    "else:\n",
    "    print(\"No\")"
   ]
  },
  {
   "cell_type": "code",
   "execution_count": 37,
   "id": "930d130c-7d68-48e6-bc19-d0cba9065a6b",
   "metadata": {},
   "outputs": [
    {
     "name": "stdout",
     "output_type": "stream",
     "text": [
      "No\n",
      "Yes\n"
     ]
    }
   ],
   "source": [
    "x1 = \"That is your book.\"\n",
    "x2 = \"This is my book.\"\n",
    "\n",
    "my_exp = \"^This\"\n",
    "\n",
    "if re.search(my_exp, x1):\n",
    "    print(\"Yes\")\n",
    "else:\n",
    "    print(\"No\")\n",
    "\n",
    "if re.search(my_exp, x2):\n",
    "    print(\"Yes\")\n",
    "else:\n",
    "    print(\"N\")"
   ]
  },
  {
   "cell_type": "code",
   "execution_count": 39,
   "id": "424a6f1c-75c4-4570-af40-669e8b951be9",
   "metadata": {},
   "outputs": [
    {
     "name": "stdout",
     "output_type": "stream",
     "text": [
      "Yes\n",
      "N\n",
      "Yes\n"
     ]
    }
   ],
   "source": [
    "x1 = \"I don't like you\"\n",
    "x2 = \"You are great\"\n",
    "x3 = \"in case you forget, remember this\"\n",
    "my_exp = \"^[Ii]\"\n",
    "\n",
    "if re.search(my_exp, x1):\n",
    "    print(\"Yes\")\n",
    "else:\n",
    "    print(\"No\")\n",
    "\n",
    "if re.search(my_exp, x2):\n",
    "    print(\"Yes\")\n",
    "else:\n",
    "    print(\"N\")\n",
    "if re.search(my_exp, x3):\n",
    "    print(\"Yes\")\n",
    "else:\n",
    "    print(\"No\")\n",
    "\n"
   ]
  },
  {
   "cell_type": "code",
   "execution_count": 41,
   "id": "0498dda1-abb4-45f3-88f1-56d84ec87ceb",
   "metadata": {},
   "outputs": [
    {
     "name": "stdout",
     "output_type": "stream",
     "text": [
      "No\n",
      "Yes\n"
     ]
    }
   ],
   "source": [
    "x1 = \"This is year 2019\"\n",
    "x2 = \"2000 is the year of my birth\"\n",
    "\n",
    "my_exp = \"^[0-9]\"\n",
    "if re.search(my_exp, x1):\n",
    "    print(\"Yes\")\n",
    "else:\n",
    "    print(\"No\")\n",
    "\n",
    "if re.search(my_exp, x2):\n",
    "    print(\"Yes\")\n",
    "else:\n",
    "    print(\"N\")"
   ]
  },
  {
   "cell_type": "code",
   "execution_count": 48,
   "id": "905af895-bd19-4458-a1f7-aec0341f1519",
   "metadata": {},
   "outputs": [
    {
     "name": "stdout",
     "output_type": "stream",
     "text": [
      "No\n",
      "Yes\n"
     ]
    }
   ],
   "source": [
    "x1 = \"Python is easy\"\n",
    "x2 = \"You need Python\"\n",
    "my_exp = \"Python$\"\n",
    "if re.search(my_exp, x1):\n",
    "    print(\"Yes\")\n",
    "else:\n",
    "    print(\"No\")\n",
    "\n",
    "if re.search(my_exp, x2):\n",
    "    print(\"Yes\")\n",
    "else:\n",
    "    print(\"N\")"
   ]
  },
  {
   "cell_type": "code",
   "execution_count": 50,
   "id": "d5a4da4a-425a-4ba8-a375-05d136c12d0c",
   "metadata": {},
   "outputs": [
    {
     "name": "stdout",
     "output_type": "stream",
     "text": [
      "Yes\n",
      "Yes\n"
     ]
    }
   ],
   "source": [
    "x1 = \"I love you\"\n",
    "x2 = \"I hate you\"\n",
    "x3 = \"I like you\"\n",
    "\n",
    "my_exp = \"love|hate\"\n",
    "\n",
    "if re.search(my_exp, x1):\n",
    "    print(\"Yes\")\n",
    "else:\n",
    "    print(\"No\")\n",
    "\n",
    "if re.search(my_exp, x2):\n",
    "    print(\"Yes\")\n",
    "else:\n",
    "    print(\"N\")"
   ]
  },
  {
   "cell_type": "code",
   "execution_count": 52,
   "id": "6e874ca7-3700-49c8-b333-efd5de05774b",
   "metadata": {},
   "outputs": [
    {
     "name": "stderr",
     "output_type": "stream",
     "text": [
      "<>:5: SyntaxWarning: invalid escape sequence '\\d'\n",
      "<>:9: SyntaxWarning: invalid escape sequence '\\s'\n",
      "<>:12: SyntaxWarning: invalid escape sequence '\\s'\n",
      "<>:5: SyntaxWarning: invalid escape sequence '\\d'\n",
      "<>:9: SyntaxWarning: invalid escape sequence '\\s'\n",
      "<>:12: SyntaxWarning: invalid escape sequence '\\s'\n",
      "/var/folders/b1/5f8_8q356mgg09p30559vjrc0000gn/T/ipykernel_11080/3335089508.py:5: SyntaxWarning: invalid escape sequence '\\d'\n",
      "  re.sub('\\d','X',x1)\n",
      "/var/folders/b1/5f8_8q356mgg09p30559vjrc0000gn/T/ipykernel_11080/3335089508.py:9: SyntaxWarning: invalid escape sequence '\\s'\n",
      "  x2_final = re.sub('\\s+',' ',x2_modified)\n",
      "/var/folders/b1/5f8_8q356mgg09p30559vjrc0000gn/T/ipykernel_11080/3335089508.py:12: SyntaxWarning: invalid escape sequence '\\s'\n",
      "  re.sub('\\s+',' ',x3)\n"
     ]
    },
    {
     "data": {
      "text/plain": [
       "'I love you.'"
      ]
     },
     "execution_count": 52,
     "metadata": {},
     "output_type": "execute_result"
    }
   ],
   "source": [
    "x1 = \"Welcome to the year 2018\"\n",
    "x2 = \"Just ~%* ++++--- arrived at @Jack's ##place.\"\n",
    "x3 = \"I            love             you.\"\n",
    "\n",
    "re.sub('\\d','X',x1)\n",
    "x2_modified = re.sub('[@~*#%+-]',' ',x2)\n",
    "x2_modified\n",
    "\n",
    "x2_final = re.sub('\\s+',' ',x2_modified)\n",
    "x2_final\n",
    "\n",
    "re.sub('\\s+',' ',x3)"
   ]
  },
  {
   "cell_type": "code",
   "execution_count": null,
   "id": "1a28f3f2-f886-4bd4-b7b0-4d9960160e6d",
   "metadata": {},
   "outputs": [],
   "source": []
  }
 ],
 "metadata": {
  "kernelspec": {
   "display_name": "Python 3 (ipykernel)",
   "language": "python",
   "name": "python3"
  },
  "language_info": {
   "codemirror_mode": {
    "name": "ipython",
    "version": 3
   },
   "file_extension": ".py",
   "mimetype": "text/x-python",
   "name": "python",
   "nbconvert_exporter": "python",
   "pygments_lexer": "ipython3",
   "version": "3.12.4"
  }
 },
 "nbformat": 4,
 "nbformat_minor": 5
}
