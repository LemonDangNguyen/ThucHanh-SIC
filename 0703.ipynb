{
 "cells": [
  {
   "cell_type": "code",
   "execution_count": 1,
   "id": "cca16240-8040-444c-944d-f4192ac01046",
   "metadata": {},
   "outputs": [
    {
     "name": "stdout",
     "output_type": "stream",
     "text": [
      "WARNING:tensorflow:From /opt/anaconda3/lib/python3.12/site-packages/tensorflow/python/compat/v2_compat.py:98: disable_resource_variables (from tensorflow.python.ops.resource_variables_toggle) is deprecated and will be removed in a future version.\n",
      "Instructions for updating:\n",
      "non-resource variables are not supported in the long term\n"
     ]
    }
   ],
   "source": [
    "import tensorflow.compat.v1 as tf\n",
    "import numpy as np\n",
    "import pandas as pd\n",
    "from sklearn.preprocessing import scale\n",
    "from sklearn.model_selection import train_test_split\n",
    "from sklearn.datasets import load_iris\n",
    "\n",
    "tf.disable_v2_behavior()"
   ]
  },
  {
   "cell_type": "code",
   "execution_count": 3,
   "id": "7969ccc0-1080-41b0-bcd8-64fc9eba966e",
   "metadata": {},
   "outputs": [
    {
     "data": {
      "text/plain": [
       "dict_keys(['data', 'target', 'frame', 'target_names', 'DESCR', 'feature_names', 'filename', 'data_module'])"
      ]
     },
     "execution_count": 3,
     "metadata": {},
     "output_type": "execute_result"
    }
   ],
   "source": [
    "data_raw = load_iris()\n",
    "data_raw.keys()"
   ]
  },
  {
   "cell_type": "code",
   "execution_count": 5,
   "id": "53a0ecf6-60c9-40e3-90f0-a2309af866ad",
   "metadata": {},
   "outputs": [],
   "source": [
    "X = data_raw['data']\n",
    "y = data_raw['target']\n"
   ]
  },
  {
   "cell_type": "code",
   "execution_count": 7,
   "id": "216752d9-5213-40ae-adfa-20827f948f42",
   "metadata": {},
   "outputs": [
    {
     "name": "stdout",
     "output_type": "stream",
     "text": [
      "(150, 4)\n",
      "(150,)\n"
     ]
    }
   ],
   "source": [
    "print(X.shape)\n",
    "print(y.shape)\n"
   ]
  },
  {
   "cell_type": "code",
   "execution_count": 9,
   "id": "940bc02d-f310-425f-9ffc-1cff82c1aec6",
   "metadata": {},
   "outputs": [],
   "source": [
    "X = scale(X)\n"
   ]
  },
  {
   "cell_type": "code",
   "execution_count": 11,
   "id": "787a066a-9cc5-4f0b-8fcc-63f2332e3a16",
   "metadata": {},
   "outputs": [],
   "source": [
    "X_train, X_test, y_train, y_test = train_test_split(X, y, test_size=0.3, random_state=3)\n",
    "n_train_size = y_train.shape[0]"
   ]
  },
  {
   "cell_type": "code",
   "execution_count": 13,
   "id": "a8cfc069-d15f-49df-8cea-1e9e57746a98",
   "metadata": {},
   "outputs": [],
   "source": [
    "batch_size = 100                                \n",
    "n_epochs  = 30000                              \n",
    "learn_rate = 0.05"
   ]
  },
  {
   "cell_type": "code",
   "execution_count": 15,
   "id": "4e4bf304-d281-4da5-87f5-222f7f5733e0",
   "metadata": {},
   "outputs": [],
   "source": [
    "W = tf.Variable(tf.ones([4,3]))                 \n",
    "b = tf.Variable(tf.ones([3]))"
   ]
  },
  {
   "cell_type": "code",
   "execution_count": 17,
   "id": "da067b12-deb1-4b7a-803e-351017532a1f",
   "metadata": {},
   "outputs": [],
   "source": [
    "X_ph = tf.placeholder(tf.float32, shape=(None, 4))   \n",
    "y_ph = tf.placeholder(tf.float32, shape=(None,3)) "
   ]
  },
  {
   "cell_type": "code",
   "execution_count": 19,
   "id": "d52b3aed-3a59-4425-9d97-ab61600850bd",
   "metadata": {},
   "outputs": [],
   "source": [
    "y_model = tf.matmul(X_ph, W) + b"
   ]
  },
  {
   "cell_type": "code",
   "execution_count": 21,
   "id": "18c5ccc7-1883-4e38-a863-d414d49097c6",
   "metadata": {},
   "outputs": [],
   "source": [
    "loss  = tf.reduce_mean(tf.nn.softmax_cross_entropy_with_logits_v2(labels=y_ph, logits=y_model))"
   ]
  },
  {
   "cell_type": "code",
   "execution_count": 23,
   "id": "45ee74f4-e12b-4b05-be2f-36a85c3bff25",
   "metadata": {},
   "outputs": [],
   "source": [
    "optimizer = tf.train.GradientDescentOptimizer(learning_rate = learn_rate)"
   ]
  },
  {
   "cell_type": "code",
   "execution_count": 25,
   "id": "7c09ed16-cf0d-47fc-be1b-26fbebde183a",
   "metadata": {},
   "outputs": [],
   "source": [
    "train = optimizer.minimize(loss)"
   ]
  },
  {
   "cell_type": "code",
   "execution_count": 27,
   "id": "926d3b92-533f-4453-83b2-9fecbf0f14a4",
   "metadata": {},
   "outputs": [],
   "source": [
    "init = tf.global_variables_initializer() "
   ]
  },
  {
   "cell_type": "code",
   "execution_count": 29,
   "id": "ec4a969a-ea62-476c-af5e-4d15fe5e5180",
   "metadata": {},
   "outputs": [
    {
     "name": "stderr",
     "output_type": "stream",
     "text": [
      "2024-08-16 16:58:36.657221: I tensorflow/compiler/mlir/mlir_graph_optimization_pass.cc:388] MLIR V1 optimization pass is not enabled\n"
     ]
    },
    {
     "ename": "IndexError",
     "evalue": "too many indices for array: array is 1-dimensional, but 2 were indexed",
     "output_type": "error",
     "traceback": [
      "\u001b[0;31m---------------------------------------------------------------------------\u001b[0m",
      "\u001b[0;31mIndexError\u001b[0m                                Traceback (most recent call last)",
      "Cell \u001b[0;32mIn[29], line 5\u001b[0m\n\u001b[1;32m      3\u001b[0m \u001b[38;5;28;01mfor\u001b[39;00m i \u001b[38;5;129;01min\u001b[39;00m \u001b[38;5;28mrange\u001b[39m(n_epochs):\n\u001b[1;32m      4\u001b[0m     idx_rnd \u001b[38;5;241m=\u001b[39m np\u001b[38;5;241m.\u001b[39mrandom\u001b[38;5;241m.\u001b[39mchoice(\u001b[38;5;28mrange\u001b[39m(n_train_size),batch_size,replace\u001b[38;5;241m=\u001b[39m\u001b[38;5;28;01mFalse\u001b[39;00m)                    \n\u001b[0;32m----> 5\u001b[0m     batch_X, batch_y \u001b[38;5;241m=\u001b[39m [X_train[idx_rnd,:], y_train[idx_rnd,:]]                           \n\u001b[1;32m      6\u001b[0m     my_feed \u001b[38;5;241m=\u001b[39m {X_ph:batch_X, y_ph:batch_y}                                        \n\u001b[1;32m      7\u001b[0m     sess\u001b[38;5;241m.\u001b[39mrun(train, feed_dict \u001b[38;5;241m=\u001b[39m my_feed)\n",
      "\u001b[0;31mIndexError\u001b[0m: too many indices for array: array is 1-dimensional, but 2 were indexed"
     ]
    }
   ],
   "source": [
    "with tf.Session() as sess:\n",
    "        sess.run(init)\n",
    "        for i in range(n_epochs):\n",
    "            idx_rnd = np.random.choice(range(n_train_size),batch_size,replace=False)                    \n",
    "            batch_X, batch_y = [X_train[idx_rnd,:], y_train[idx_rnd,:]]                           \n",
    "            my_feed = {X_ph:batch_X, y_ph:batch_y}                                        \n",
    "            sess.run(train, feed_dict = my_feed)\n",
    "            if (i + 1) % 2000 == 0: print(\"Step : {}\".format(i + 1))                      \n",
    "        correct_predictions = tf.equal(tf.argmax(y_ph, axis=1), tf.argmax(y_model, axis=1))   \n",
    "        accuracy = tf.reduce_mean(tf.cast(correct_predictions, tf.float32))                   \n",
    "        accuracy_value = sess.run(accuracy, feed_dict={X_ph:X_test, y_ph:y_test}) "
   ]
  },
  {
   "cell_type": "code",
   "execution_count": null,
   "id": "cb2ececf-ab82-4e7f-ac39-eb8f840eab45",
   "metadata": {},
   "outputs": [],
   "source": []
  }
 ],
 "metadata": {
  "kernelspec": {
   "display_name": "Python 3 (ipykernel)",
   "language": "python",
   "name": "python3"
  },
  "language_info": {
   "codemirror_mode": {
    "name": "ipython",
    "version": 3
   },
   "file_extension": ".py",
   "mimetype": "text/x-python",
   "name": "python",
   "nbconvert_exporter": "python",
   "pygments_lexer": "ipython3",
   "version": "3.12.4"
  }
 },
 "nbformat": 4,
 "nbformat_minor": 5
}
