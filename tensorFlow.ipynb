{
 "cells": [
  {
   "cell_type": "code",
   "execution_count": 5,
   "id": "12a9f217-c07e-44ac-8c30-6de111198cbd",
   "metadata": {},
   "outputs": [
    {
     "data": {
      "text/plain": [
       "TensorShape([2, 3])"
      ]
     },
     "execution_count": 5,
     "metadata": {},
     "output_type": "execute_result"
    }
   ],
   "source": [
    "import numpy as np\n",
    "import tensorflow as tf \n",
    "np.set_printoptions(precision=3)\n",
    "a = np.array([1,2,3],dtype=np.int32) \n",
    "b = [4, 5, 6]\n",
    "t_a = tf.convert_to_tensor(a)\n",
    "t_b = tf.convert_to_tensor(b)\n",
    "t_one = tf.ones((2,3))\n",
    "t_one.shape"
   ]
  },
  {
   "cell_type": "code",
   "execution_count": 7,
   "id": "888d895a-4d29-4da9-9f28-6c00563a93c7",
   "metadata": {},
   "outputs": [
    {
     "data": {
      "text/plain": [
       "<tf.Tensor: shape=(4, 3), dtype=int32, numpy=\n",
       "array([[1, 1, 1],\n",
       "       [1, 1, 1],\n",
       "       [1, 1, 1],\n",
       "       [1, 1, 1]], dtype=int32)>"
      ]
     },
     "execution_count": 7,
     "metadata": {},
     "output_type": "execute_result"
    }
   ],
   "source": [
    "tf.fill((4,3),1)"
   ]
  },
  {
   "cell_type": "code",
   "execution_count": 9,
   "id": "56cef29a-1224-44e4-b977-87f7e2fb417c",
   "metadata": {},
   "outputs": [
    {
     "data": {
      "text/plain": [
       "<tf.Tensor: shape=(3, 5), dtype=float32, numpy=\n",
       "array([[1., 0., 0., 0., 0.],\n",
       "       [0., 0., 1., 0., 0.],\n",
       "       [0., 0., 0., 1., 0.]], dtype=float32)>"
      ]
     },
     "execution_count": 9,
     "metadata": {},
     "output_type": "execute_result"
    }
   ],
   "source": [
    "tf.one_hot([0,2,3],5)"
   ]
  },
  {
   "cell_type": "code",
   "execution_count": 11,
   "id": "d95d0a02-bf42-4df1-842c-6eb21c03946c",
   "metadata": {},
   "outputs": [
    {
     "name": "stdout",
     "output_type": "stream",
     "text": [
      "tf.Tensor(\n",
      "[[6.981 4.969]\n",
      " [4.176 5.18 ]\n",
      " [1.303 7.162]\n",
      " [7.661 8.852]\n",
      " [3.037 3.009]], shape=(5, 2), dtype=float32)\n",
      "tf.Tensor(\n",
      "[[ 8.422e-02 -8.609e-01]\n",
      " [ 3.781e-01 -5.196e-03]\n",
      " [-4.945e-01  6.178e-01]\n",
      " [-3.308e-01 -1.384e-03]\n",
      " [-4.237e-01 -1.387e+00]], shape=(5, 2), dtype=float32)\n"
     ]
    }
   ],
   "source": [
    "tf.random.set_seed(42)\n",
    "t1 = tf.random.uniform(shape=(5,2), minval=1.0, maxval=10)\n",
    "t2 = tf.random.normal(shape=(5,2), mean=0.0, stddev=1.0)\n",
    "print(t1)\n",
    "print(t2)"
   ]
  },
  {
   "cell_type": "code",
   "execution_count": 13,
   "id": "eb56bf72-4805-4277-84af-023b9fb2a264",
   "metadata": {},
   "outputs": [
    {
     "name": "stdout",
     "output_type": "stream",
     "text": [
      "[[ 0.588 -4.278]\n",
      " [ 1.579 -0.027]\n",
      " [-0.644  4.425]\n",
      " [-2.534 -0.012]\n",
      " [-1.287 -4.174]]\n"
     ]
    }
   ],
   "source": [
    "t = tf.multiply(t1,t2).numpy()\n",
    "print(t)"
   ]
  },
  {
   "cell_type": "code",
   "execution_count": 20,
   "id": "28d9a3ec-fa9a-41e0-a7be-4cb152282fa8",
   "metadata": {},
   "outputs": [
    {
     "name": "stdout",
     "output_type": "stream",
     "text": [
      "<_TensorSliceDataset element_spec=TensorSpec(shape=(), dtype=tf.float32, name=None)>\n",
      "tf.Tensor(1.2, shape=(), dtype=float32)\n",
      "tf.Tensor(3.4, shape=(), dtype=float32)\n",
      "tf.Tensor(7.5, shape=(), dtype=float32)\n",
      "tf.Tensor(4.1, shape=(), dtype=float32)\n",
      "tf.Tensor(5.0, shape=(), dtype=float32)\n",
      "tf.Tensor(1.0, shape=(), dtype=float32)\n",
      "batch100: [1.2 3.4 7.5]\n",
      "batch101: [4.1 5.  1. ]\n"
     ]
    },
    {
     "name": "stderr",
     "output_type": "stream",
     "text": [
      "2024-08-14 14:08:41.009858: I tensorflow/core/framework/local_rendezvous.cc:404] Local rendezvous is aborting with status: OUT_OF_RANGE: End of sequence\n"
     ]
    }
   ],
   "source": [
    "a=[1.2,3.4, 7.5, 4.1, 5.0, 1.0]\n",
    "ds = tf.data.Dataset.from_tensor_slices(a) \n",
    "print(ds)\n",
    "for i in ds:\n",
    "    print(i) \n",
    "ds_batch = ds.batch(3)\n",
    "for i, e in enumerate(ds_batch,100):\n",
    "    print('batch{}:'.format(i), e.numpy())"
   ]
  },
  {
   "cell_type": "code",
   "execution_count": 22,
   "id": "adf640f9-687b-46a8-b162-da54355d4ca5",
   "metadata": {},
   "outputs": [
    {
     "name": "stdout",
     "output_type": "stream",
     "text": [
      "  x:    [0.665 0.441 0.353]   y:   0\n",
      "  x:    [0.464 0.034 0.685]   y:   1\n",
      "  x:    [0.74  0.872 0.226]   y:   2\n",
      "  x:    [0.223 0.31  0.722]   y:   3\n"
     ]
    }
   ],
   "source": [
    "tf.random.set_seed(42)\n",
    "tx = tf.random.uniform([4,3], dtype=tf.float32) \n",
    "ty = tf.range(4)\n",
    "dsX = tf.data.Dataset.from_tensor_slices(tx) \n",
    "dsY = tf.data.Dataset.from_tensor_slices(ty) \n",
    "ds_merge = tf.data.Dataset.zip((dsX,dsY))\n",
    "for i in ds_merge:\n",
    "    print('  x:   ', i[0].numpy(), '  y:  ', i[1].numpy())"
   ]
  },
  {
   "cell_type": "code",
   "execution_count": 26,
   "id": "08dca2fb-e067-46be-8c1e-1adfc827d9c2",
   "metadata": {},
   "outputs": [
    {
     "name": "stdout",
     "output_type": "stream",
     "text": [
      "  x:   [0.74  0.872 0.226]   y:   2\n",
      "  x:   [0.464 0.034 0.685]   y:   1\n",
      "  x:   [0.665 0.441 0.353]   y:   0\n",
      "  x:   [0.223 0.31  0.722]   y:   3\n"
     ]
    }
   ],
   "source": [
    "tf.random.set_seed(1)\n",
    "ds = ds_merge.shuffle(buffer_size=len(tx)) \n",
    "for i in ds:\n",
    "    print('  x:  ', i[0].numpy(), '  y:  ', i[1].numpy())"
   ]
  },
  {
   "cell_type": "code",
   "execution_count": 32,
   "id": "ed634d80-7dfc-4a7e-ad15-e5606d53f3a0",
   "metadata": {},
   "outputs": [
    {
     "name": "stdout",
     "output_type": "stream",
     "text": [
      "batch x: \n",
      " [[0.665 0.441 0.353]\n",
      " [0.464 0.034 0.685]\n",
      " [0.74  0.872 0.226]]\n",
      "batch y: \n",
      " [0 1 2]\n",
      "Bactch:\n",
      "\n",
      "[[0.665 0.441 0.353]\n",
      " [0.464 0.034 0.685]\n",
      " [0.74  0.872 0.226]]   [0 1 2]\n",
      "[[0.223 0.31  0.722]]   [3]\n"
     ]
    }
   ],
   "source": [
    "ds = ds_merge.batch(batch_size=3, drop_remainder=False) \n",
    "batch_x, batch_y = next(iter(ds))\n",
    "print('batch x: \\n', batch_x.numpy())\n",
    "print('batch y: \\n', batch_y.numpy()) \n",
    "print('Bactch:\\n')\n",
    "for i in ds:\n",
    "    print(i[0].numpy(),' ',i[1].numpy())"
   ]
  },
  {
   "cell_type": "code",
   "execution_count": 34,
   "id": "dcaf1502-3ae1-4e5e-aa51-5607efd95590",
   "metadata": {},
   "outputs": [
    {
     "name": "stdout",
     "output_type": "stream",
     "text": [
      "0 (3, 3) [0 1 2]\n",
      "1 (3, 3) [0 1 2]\n",
      "2 (3, 3) [0 1 2]\n",
      "3 (3, 3) [0 1 2]\n"
     ]
    },
    {
     "name": "stderr",
     "output_type": "stream",
     "text": [
      "2024-08-14 14:10:34.825008: I tensorflow/core/framework/local_rendezvous.cc:404] Local rendezvous is aborting with status: OUT_OF_RANGE: End of sequence\n"
     ]
    }
   ],
   "source": [
    "ds = ds_merge.batch(3).repeat(count=2) \n",
    "for i, (batchx,batchy) in enumerate(ds):\n",
    "    print(i, batch_x.shape, batch_y.numpy())"
   ]
  },
  {
   "cell_type": "code",
   "execution_count": 36,
   "id": "6b7a487a-87f1-4e34-97f3-72636a4dda90",
   "metadata": {},
   "outputs": [
    {
     "name": "stdout",
     "output_type": "stream",
     "text": [
      "0 (2, 3) [1 2]\n",
      "1 (2, 3) [3 0]\n",
      "2 (2, 3) [1 3]\n",
      "3 (2, 3) [0 2]\n",
      "4 (2, 3) [2 1]\n",
      "5 (2, 3) [3 0]\n",
      "6 (2, 3) [0 1]\n",
      "7 (2, 3) [2 3]\n",
      "8 (2, 3) [0 3]\n",
      "9 (2, 3) [1 2]\n",
      "10 (2, 3) [0 1]\n",
      "11 (2, 3) [3 2]\n",
      "12 (2, 3) [3 0]\n",
      "13 (2, 3) [1 2]\n",
      "14 (2, 3) [1 3]\n",
      "15 (2, 3) [0 2]\n",
      "16 (2, 3) [0 2]\n",
      "17 (2, 3) [3 1]\n",
      "18 (2, 3) [3 1]\n",
      "19 (2, 3) [2 0]\n",
      "20 (2, 3) [3 2]\n",
      "21 (2, 3) [0 1]\n",
      "22 (2, 3) [2 0]\n",
      "23 (2, 3) [3 1]\n",
      "24 (2, 3) [3 2]\n",
      "25 (2, 3) [0 1]\n",
      "26 (2, 3) [0 3]\n",
      "27 (2, 3) [1 2]\n",
      "28 (2, 3) [0 1]\n",
      "29 (2, 3) [2 3]\n",
      "30 (2, 3) [3 0]\n",
      "31 (2, 3) [1 2]\n",
      "32 (2, 3) [1 3]\n",
      "33 (2, 3) [2 0]\n",
      "34 (2, 3) [3 1]\n",
      "35 (2, 3) [0 2]\n",
      "36 (2, 3) [1 2]\n",
      "37 (2, 3) [0 3]\n",
      "38 (2, 3) [3 0]\n",
      "39 (2, 3) [1 2]\n"
     ]
    }
   ],
   "source": [
    "ds = ds_merge.shuffle(4).batch(2).repeat(20) \n",
    "for i, (batch_x, batch_y) in enumerate(ds):\n",
    "        print(i, batch_x.shape, batch_y.numpy())"
   ]
  },
  {
   "cell_type": "code",
   "execution_count": null,
   "id": "a9e4d658-eb77-43b2-96b8-87926bda5605",
   "metadata": {},
   "outputs": [],
   "source": []
  }
 ],
 "metadata": {
  "kernelspec": {
   "display_name": "Python 3 (ipykernel)",
   "language": "python",
   "name": "python3"
  },
  "language_info": {
   "codemirror_mode": {
    "name": "ipython",
    "version": 3
   },
   "file_extension": ".py",
   "mimetype": "text/x-python",
   "name": "python",
   "nbconvert_exporter": "python",
   "pygments_lexer": "ipython3",
   "version": "3.12.4"
  }
 },
 "nbformat": 4,
 "nbformat_minor": 5
}
